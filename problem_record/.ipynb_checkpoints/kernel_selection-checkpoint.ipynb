{
 "cells": [
  {
   "cell_type": "markdown",
   "metadata": {},
   "source": [
    "# jupyter如何进行conda内核的切换？"
   ]
  },
  {
   "cell_type": "markdown",
   "metadata": {},
   "source": [
    "## 安装nb_conda\n",
    "\n",
    "在所需要切换的环境安装nb_conda\n",
    "  \n",
    "**!conda install nb_conda**\n"
   ]
  },
  {
   "cell_type": "markdown",
   "metadata": {},
   "source": [
    "## ipython降级\n",
    "切换环境后在jupyter中无法使用tab来实现自动填充的解决办法\n",
    "最近创建了一个新的python环境，发现在jupyter中无法使用tab键来实现自动填充，也是查了许多，更改了诸多配置，但是还是没有失败了\n",
    "\n",
    "最后才发现是ipython的版本问题，由于创建新的虚拟的python环境，安装jupyther时，自动安装最新版的ipython ，他回导致无法使用自动填充（auto complete）,降一下对应的ipython版本就可以使用tab键愉快的来偷懒了\n",
    "\n",
    "__!pip install ipython==7.1.1__"
   ]
  }
 ],
 "metadata": {
  "kernelspec": {
   "display_name": "Python [conda env:ml]",
   "language": "python",
   "name": "conda-env-ml-py"
  },
  "language_info": {
   "codemirror_mode": {
    "name": "ipython",
    "version": 3
   },
   "file_extension": ".py",
   "mimetype": "text/x-python",
   "name": "python",
   "nbconvert_exporter": "python",
   "pygments_lexer": "ipython3",
   "version": "3.7.9"
  },
  "toc-autonumbering": true
 },
 "nbformat": 4,
 "nbformat_minor": 4
}
