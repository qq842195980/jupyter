{
 "cells": [
  {
   "cell_type": "code",
   "execution_count": 1,
   "metadata": {},
   "outputs": [],
   "source": [
    "import numpy as np"
   ]
  },
  {
   "cell_type": "markdown",
   "metadata": {},
   "source": [
    "np.logspace(\n",
    "    start,\n",
    "    stop,\n",
    "    num=50,\n",
    "    endpoint=True,\n",
    "    base=10.0,\n",
    "    dtype=None,\n",
    "    axis=0,\n",
    ")\n",
    "生成"
   ]
  },
  {
   "cell_type": "code",
   "execution_count": 9,
   "metadata": {},
   "outputs": [
    {
     "name": "stdout",
     "output_type": "stream",
     "text": [
      "[1.00000000e+00 2.97635144e+00 8.85866790e+00 2.63665090e+01\n",
      " 7.84759970e+01 2.33572147e+02 6.95192796e+02 2.06913808e+03\n",
      " 6.15848211e+03 1.83298071e+04 5.45559478e+04 1.62377674e+05\n",
      " 4.83293024e+05 1.43844989e+06 4.28133240e+06 1.27427499e+07\n",
      " 3.79269019e+07 1.12883789e+08 3.35981829e+08 1.00000000e+09]\n"
     ]
    }
   ],
   "source": [
    "a = np.logspace(0, 9, 10)\n",
    "print(a)"
   ]
  }
 ],
 "metadata": {
  "kernelspec": {
   "display_name": "Python [conda env:ml]",
   "language": "python",
   "name": "conda-env-ml-py"
  },
  "language_info": {
   "codemirror_mode": {
    "name": "ipython",
    "version": 3
   },
   "file_extension": ".py",
   "mimetype": "text/x-python",
   "name": "python",
   "nbconvert_exporter": "python",
   "pygments_lexer": "ipython3",
   "version": "3.6.12"
  }
 },
 "nbformat": 4,
 "nbformat_minor": 4
}
