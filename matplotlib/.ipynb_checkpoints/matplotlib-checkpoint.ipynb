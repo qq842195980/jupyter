{
 "cells": [
  {
   "cell_type": "code",
   "execution_count": 1,
   "metadata": {},
   "outputs": [],
   "source": [
    "#!/usr/bin/env python\n",
    "#！-*-coding:utf-8 -*-\n",
    "%matplotlib widget\n",
    "import matplotlib.pyplot as plt\n",
    "import numpy as np"
   ]
  },
  {
   "cell_type": "markdown",
   "metadata": {},
   "source": [
    "# matplotlib"
   ]
  },
  {
   "cell_type": "markdown",
   "metadata": {},
   "source": [
    "## pie函数参数解读\n",
    "plt.pie(x, explode=None, labels=None, colors=None, autopct=None, pctdistance=0.6, shadow=False, labeldistance=1.1, startangle=None, radius=None, counterclock=True, wedgeprops=None, textprops=None, center=(0, 0), frame=False)\n",
    "- x：指定绘图的数据；\n",
    "- explode：指定饼图某些部分的突出显示，即呈现爆炸式；\n",
    "- labels：为饼图添加标签说明，类似于图例说明；\n",
    "- colors：指定饼图的填充色；\n",
    "- autopct：自动添加百分比显示，可以采用格式化的方法显示；\n",
    "- pctdistance：设置百分比标签与圆心的距离；\n",
    "- shadow：是否添加饼图的阴影效果；\n",
    "- labeldistance：设置各扇形标签（图例）与圆心的距离；\n",
    "- startangle：设置饼图的初始摆放角度；\n",
    "- radius：设置饼图的半径大小；\n",
    "- counterclock：是否让饼图按逆时针顺序呈现；\n",
    "- wedgeprops：设置饼图内外边界的属性，如边界线的粗细、颜色等；\n",
    "- textprops：设置饼图中文本的属性，如字体大小、颜色等；\n",
    "- center：指定饼图的中心点位置，默认为原点\n",
    "- frame：是否要显示饼图背后的图框，如果设置为True的话，需要同时控制图框x轴、y轴的范围和饼图的中心位置；"
   ]
  },
  {
   "cell_type": "code",
   "execution_count": 2,
   "metadata": {},
   "outputs": [
    {
     "data": {
      "application/vnd.jupyter.widget-view+json": {
       "model_id": "0e69d2945046405c826667d7c550dafb",
       "version_major": 2,
       "version_minor": 0
      },
      "text/plain": [
       "Canvas(toolbar=Toolbar(toolitems=[('Home', 'Reset original view', 'home', 'home'), ('Back', 'Back to previous …"
      ]
     },
     "metadata": {},
     "output_type": "display_data"
    }
   ],
   "source": [
    "plt.rcParams['font.sans-serif']=['SimHei'] #用来正常显示中文标签\n",
    "\n",
    "labels = ['冠词使用错误','残缺句','表述不当','粘连句','标点符号不当','其它']\n",
    "sizes = [25,20,15,20,5,15]\n",
    "explode = (0.1,0,0,0,0,0)\n",
    "plt.pie(sizes, explode=explode, labels=labels, autopct=None, shadow=True,textprops=None, labeldistance=None)\n",
    "plt.title(\"主要错误类型\")\n",
    "\n",
    "# loc = 'upper right' 位于右上角\n",
    "# bbox_to_anchor=[0.5, 0.5] # 外边距 上边 右边\n",
    "# ncol=2 分两列\n",
    "# borderaxespad = 0.3图例的内边距\n",
    "plt.legend(loc=\"upper right\",fontsize=10,bbox_to_anchor=(1.1, 1.1),borderaxespad=0.3)\n",
    "plt.axis('equal')   #该行代码使饼图长宽相等\n",
    "plt.savefig('pie.jpg')\n",
    "plt.show()"
   ]
  }
 ],
 "metadata": {
  "kernelspec": {
   "display_name": "Python [conda env:ml]",
   "language": "python",
   "name": "conda-env-ml-py"
  },
  "language_info": {
   "codemirror_mode": {
    "name": "ipython",
    "version": 3
   },
   "file_extension": ".py",
   "mimetype": "text/x-python",
   "name": "python",
   "nbconvert_exporter": "python",
   "pygments_lexer": "ipython3",
   "version": "3.7.9"
  },
  "toc": {
   "base_numbering": 1,
   "nav_menu": {},
   "number_sections": true,
   "sideBar": true,
   "skip_h1_title": false,
   "title_cell": "Table of Contents",
   "title_sidebar": "Contents",
   "toc_cell": false,
   "toc_position": {},
   "toc_section_display": true,
   "toc_window_display": false
  },
  "toc-autonumbering": true
 },
 "nbformat": 4,
 "nbformat_minor": 4
}
