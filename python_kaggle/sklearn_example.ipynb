{
 "cells": [
  {
   "cell_type": "code",
   "execution_count": 5,
   "metadata": {},
   "outputs": [],
   "source": [
    "import warnings\n",
    "warnings.filterwarnings(\"ignore\")\n",
    "import pandas as pd\n",
    "import numpy as np"
   ]
  },
  {
   "cell_type": "code",
   "execution_count": 2,
   "metadata": {},
   "outputs": [],
   "source": [
    "# Create feature list\n",
    "column_names = ['Sample code number', 'Clump Thickness', 'Uniformity of Cell Size', \n",
    "                'Uniformity of Cell Shape', 'Marginal Adhesion', 'Single Epithelial Cell Size', \n",
    "               'Bare Nuclei', 'Bland Chromatin', 'Normal Nucleoli', 'Mitoses', 'Class']\n",
    "\n",
    "# use pandas.read_csv to get data from Internet\n",
    "data = pd.read_csv('https://archive.ics.uci.edu/ml/machine-learning-databases/breast-cancer-wisconsin/breast-cancer-wisconsin.data',\n",
    "                  names=column_names)"
   ]
  },
  {
   "cell_type": "code",
   "execution_count": 3,
   "metadata": {},
   "outputs": [
    {
     "data": {
      "text/plain": [
       "(699, 11)"
      ]
     },
     "execution_count": 3,
     "metadata": {},
     "output_type": "execute_result"
    }
   ],
   "source": [
    "# dealing missing value of datasets\n",
    "# replace\n",
    "data = data.replace(to_replace='?', value=np.nan)\n",
    "# use the last value on the column to fill\n",
    "data = data.fillna(axis=0,method='ffill')\n",
    "# discard (missing at least one attribute)\n",
    "date = data.dropna(how='any')\n",
    "# output the shape\n",
    "date.shape\n",
    "# print(data)"
   ]
  },
  {
   "cell_type": "code",
   "execution_count": 6,
   "metadata": {},
   "outputs": [
    {
     "name": "stdout",
     "output_type": "stream",
     "text": [
      "y_train:\n",
      " 2    341\n",
      "4    183\n",
      "Name: Class, dtype: int64\n",
      "y_test:\n",
      " 2    117\n",
      "4     58\n",
      "Name: Class, dtype: int64\n"
     ]
    }
   ],
   "source": [
    "# prepare the date\n",
    "from sklearn.cross_validation import train_test_split\n",
    "# 75% for train and 25% for test\n",
    "X_train, X_test, y_train, y_test = train_test_split(data[column_names[1:10]], data[column_names[10]], test_size=0.25, random_state=33)\n",
    "# checkout the data\n",
    "# print(X_train)\n",
    "print(\"y_train:\\n\", y_train.value_counts())\n",
    "print(\"y_test:\\n\", y_test.value_counts())"
   ]
  },
  {
   "cell_type": "code",
   "execution_count": 7,
   "metadata": {},
   "outputs": [],
   "source": [
    "# Standarlization Library\n",
    "from sklearn.preprocessing import StandardScaler\n",
    "# LogisticRegression and SGD Classifier Library\n",
    "from sklearn.linear_model import LogisticRegression\n",
    "from sklearn.linear_model import SGDClassifier"
   ]
  },
  {
   "cell_type": "code",
   "execution_count": 8,
   "metadata": {},
   "outputs": [],
   "source": [
    "# Standarlize\n",
    "ss = StandardScaler()\n",
    "\n",
    "# fit data to mean = 0, var = 1\n",
    "X_train = ss.fit_transform(X_train)\n",
    "X_test = ss.transform(X_test)"
   ]
  },
  {
   "cell_type": "code",
   "execution_count": 9,
   "metadata": {},
   "outputs": [],
   "source": [
    "# LogisticRegression\n",
    "lr = LogisticRegression()\n",
    "lr.fit(X_train, y_train)\n",
    "lr_y_predict = lr.predict(X_test)"
   ]
  },
  {
   "cell_type": "code",
   "execution_count": 10,
   "metadata": {},
   "outputs": [],
   "source": [
    "# SGDClassifier\n",
    "sgdc = SGDClassifier(max_iter=1000)\n",
    "sgdc.fit(X_train, y_train)\n",
    "sgdc_y_predict = sgdc.predict(X_test)"
   ]
  },
  {
   "cell_type": "code",
   "execution_count": 9,
   "metadata": {},
   "outputs": [
    {
     "name": "stdout",
     "output_type": "stream",
     "text": [
      "Accuarcy of LR Classifier: 0.954285714286\n",
      "             precision    recall  f1-score   support\n",
      "\n",
      "     Benign       0.98      0.95      0.97       117\n",
      "  Malignant       0.90      0.97      0.93        58\n",
      "\n",
      "avg / total       0.96      0.95      0.95       175\n",
      "\n",
      "Accuarcy of SGD Classifier: 0.954285714286\n",
      "             precision    recall  f1-score   support\n",
      "\n",
      "     Benign       0.98      0.95      0.97       117\n",
      "  Malignant       0.90      0.97      0.93        58\n",
      "\n",
      "avg / total       0.96      0.95      0.95       175\n",
      "\n"
     ]
    }
   ],
   "source": [
    "# Evaluation\n",
    "from sklearn.metrics import classification_report\n",
    "# evaluate LogisticRegression Model\n",
    "print(\"Accuarcy of LR Classifier:\", lr.score(X_test, y_test))\n",
    "print(classification_report(y_test, lr_y_predict, target_names=['Benign', 'Malignant']))\n",
    "# evaluate SGDClassifier Model\n",
    "print(\"Accuarcy of SGD Classifier:\", sgdc.score(X_test, y_test))\n",
    "print(classification_report(y_test, sgdc_y_predict, target_names=['Benign', 'Malignant']))"
   ]
  },
  {
   "cell_type": "markdown",
   "metadata": {},
   "source": [
    "对比两种算法的效果"
   ]
  }
 ],
 "metadata": {
  "kernelspec": {
   "display_name": "Python [conda env:ml]",
   "language": "python",
   "name": "conda-env-ml-py"
  },
  "language_info": {
   "codemirror_mode": {
    "name": "ipython",
    "version": 3
   },
   "file_extension": ".py",
   "mimetype": "text/x-python",
   "name": "python",
   "nbconvert_exporter": "python",
   "pygments_lexer": "ipython3",
   "version": "3.6.2"
  },
  "toc": {
   "base_numbering": 1,
   "nav_menu": {},
   "number_sections": true,
   "sideBar": true,
   "skip_h1_title": false,
   "title_cell": "Table of Contents",
   "title_sidebar": "Contents",
   "toc_cell": false,
   "toc_position": {},
   "toc_section_display": true,
   "toc_window_display": false
  }
 },
 "nbformat": 4,
 "nbformat_minor": 4
}
